{
 "cells": [
  {
   "cell_type": "code",
   "execution_count": 1,
   "metadata": {},
   "outputs": [],
   "source": [
    "# https://machinelearningmastery.com/tutorial-first-neural-network-python-keras/\n",
    "import pandas as pd\n",
    "import numpy as np\n",
    "from sklearn import neighbors, datasets\n",
    "# fix random seed for reproducibility\n",
    "np.random.seed(0)\n",
    "nb_classes = 4"
   ]
  },
  {
   "cell_type": "code",
   "execution_count": 2,
   "metadata": {},
   "outputs": [],
   "source": [
    "# data_processed.csv\n",
    "# load pima indians dataset\n",
    "df = pd.read_csv('data_processed.csv')\n",
    "# Get testSet\n",
    "df_test = df.sample(frac=0.2, random_state=47)\n",
    "df_test.to_csv('testSet.csv', index=False)\n",
    "# Subtract to get trainingSet\n",
    "df_train = df[~df.index.isin(df_test.index)]\n",
    "df_train.to_csv('trainingSet.csv', index=False)"
   ]
  },
  {
   "cell_type": "code",
   "execution_count": 3,
   "metadata": {},
   "outputs": [],
   "source": [
    "trainingSet = pd.read_csv('trainingSet.csv')\n",
    "testSet = pd.read_csv('testSet.csv')"
   ]
  },
  {
   "cell_type": "code",
   "execution_count": 4,
   "metadata": {},
   "outputs": [
    {
     "name": "stdout",
     "output_type": "stream",
     "text": [
      "[1 1 1 ... 4 4 4]\n"
     ]
    }
   ],
   "source": [
    "Y_train = np.array(trainingSet['Value'])\n",
    "trainSet_X = trainingSet.drop('Value', axis=1)\n",
    "X_train = np.array(trainSet_X)\n",
    "print Y_train"
   ]
  },
  {
   "cell_type": "code",
   "execution_count": 5,
   "metadata": {},
   "outputs": [],
   "source": [
    "Y_test = np.array(testSet['Value'])\n",
    "testSet_X = testSet.drop('Value', axis=1)\n",
    "X_test = np.array(testSet_X)"
   ]
  },
  {
   "cell_type": "code",
   "execution_count": 6,
   "metadata": {},
   "outputs": [
    {
     "data": {
      "text/plain": [
       "KNeighborsClassifier(algorithm='auto', leaf_size=30, metric='minkowski',\n",
       "           metric_params=None, n_jobs=None, n_neighbors=25, p=2,\n",
       "           weights='distance')"
      ]
     },
     "execution_count": 6,
     "metadata": {},
     "output_type": "execute_result"
    }
   ],
   "source": [
    "clf = neighbors.KNeighborsClassifier(25, weights='distance')\n",
    "clf.fit(X_train, Y_train)"
   ]
  },
  {
   "cell_type": "code",
   "execution_count": 7,
   "metadata": {},
   "outputs": [],
   "source": [
    "res = clf.predict(X_test)"
   ]
  },
  {
   "cell_type": "code",
   "execution_count": 8,
   "metadata": {},
   "outputs": [
    {
     "name": "stdout",
     "output_type": "stream",
     "text": [
      "[1 2 1 1 1 1 2 1 1 2 1 2 1 1 4 1 1 1 1 1 1 1 1 2 2 2 1 1 1 1 1 1 1 1 2 1 2\n",
      " 1 1 1 1 1 1 1 2 1 1 2 2 1 1 1 1 1 1 1 1 1 1 1 1 1 1 1 1 1 1 1 2 1 1 1 2 1\n",
      " 1 1 1 1 1 1 2 2 2 3 2 1 1 2 2 1 1 1 1 1 1 1 1 1 1 3 1 1 1 1 2 1 2 1 1 1 1\n",
      " 1 2 1 3 1 1 1 2 1 1 1 1 2 2 1 2 1 2 1 2 1 1 1 1 1 1 2 1 4 1 1 3 1 1 1 1 1\n",
      " 1 1 1 2 1 1 1 3 2 1 1 2 2 1 1 1 1 1 1 1 1 1 2 1 1 2 1 2 2 1 1 1 1 1 1 1 1\n",
      " 1 1 2 1 1 1 1 1 3 1 1 1 1 1 1 1 1 1 1 3 1 1 1 3 4 1 1 1 1 1 1 2 1 1 1 1 1\n",
      " 1 1 1 2 1 1 1 1 1 1 1 1 2 2 2 1 1 1 1 1 1 1 3 2 1 1 1 1 1 1 2 1 1 1 1 1 1\n",
      " 1 1 2 1 1 1 1 1 1 1 2 3 1 3 1 1 1 1 2 1 2 1 2 1 2 1]\n",
      "[1 2 1 1 1 1 2 2 1 2 1 1 1 1 4 2 1 1 1 1 1 2 1 2 2 2 1 1 1 1 1 1 1 1 2 1 3\n",
      " 1 1 1 1 1 1 1 1 1 1 3 3 1 1 1 1 1 1 1 1 1 2 1 1 1 1 2 1 1 1 1 2 1 1 1 2 1\n",
      " 1 1 1 1 1 1 2 2 2 3 2 1 1 2 3 1 1 1 1 1 1 1 1 2 1 4 1 1 1 2 2 1 3 1 1 1 1\n",
      " 1 2 1 3 1 1 1 3 1 1 1 1 2 3 1 2 1 2 2 3 1 1 1 1 1 1 2 1 3 1 1 4 2 1 1 2 1\n",
      " 1 1 1 2 1 1 1 2 2 1 1 2 2 1 1 1 1 1 1 1 1 1 3 1 1 2 2 3 2 1 1 1 1 1 1 1 1\n",
      " 1 1 3 1 1 1 1 1 4 1 1 2 1 1 1 1 1 1 2 3 1 1 1 4 3 1 1 1 1 1 2 3 1 1 2 1 1\n",
      " 1 1 1 2 1 1 1 1 1 1 1 1 2 2 4 1 1 1 1 1 1 1 3 2 1 1 1 1 1 1 4 1 1 2 1 1 2\n",
      " 1 1 2 2 1 1 1 1 1 1 2 3 1 4 1 1 2 1 2 1 2 1 2 1 3 1]\n"
     ]
    }
   ],
   "source": [
    "print res\n",
    "print Y_test"
   ]
  },
  {
   "cell_type": "code",
   "execution_count": 9,
   "metadata": {},
   "outputs": [
    {
     "name": "stdout",
     "output_type": "stream",
     "text": [
      "0.845614035088\n"
     ]
    }
   ],
   "source": [
    "count = 0\n",
    "for i in range((len(X_test))):\n",
    "    if res[i] == Y_test[i]:\n",
    "        count += 1\n",
    "        \n",
    "print 1.0 * count/len(X_test)"
   ]
  },
  {
   "cell_type": "code",
   "execution_count": null,
   "metadata": {},
   "outputs": [],
   "source": []
  }
 ],
 "metadata": {
  "kernelspec": {
   "display_name": "Python 2",
   "language": "python",
   "name": "python2"
  },
  "language_info": {
   "codemirror_mode": {
    "name": "ipython",
    "version": 2
   },
   "file_extension": ".py",
   "mimetype": "text/x-python",
   "name": "python",
   "nbconvert_exporter": "python",
   "pygments_lexer": "ipython2",
   "version": "2.7.12"
  }
 },
 "nbformat": 4,
 "nbformat_minor": 2
}

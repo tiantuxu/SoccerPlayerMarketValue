{
 "cells": [
  {
   "cell_type": "code",
   "execution_count": 1,
   "metadata": {},
   "outputs": [
    {
     "name": "stderr",
     "output_type": "stream",
     "text": [
      "Using TensorFlow backend.\n"
     ]
    }
   ],
   "source": [
    "# https://machinelearningmastery.com/tutorial-first-neural-network-python-keras/\n",
    "import pandas as pd\n",
    "from keras.models import Sequential\n",
    "from keras.layers import Dense, Dropout, Activation, Flatten\n",
    "import numpy as np\n",
    "# fix random seed for reproducibility\n",
    "np.random.seed(0)\n",
    "nb_classes = 12"
   ]
  },
  {
   "cell_type": "code",
   "execution_count": 2,
   "metadata": {},
   "outputs": [],
   "source": [
    "# data_processed.csv\n",
    "# load pima indians dataset\n",
    "df = pd.read_csv('data_processed.csv')\n",
    "# Get testSet\n",
    "df_test = df.sample(frac=0.2, random_state=47)\n",
    "df_test.to_csv('testSet.csv', index=False)\n",
    "# Subtract to get trainingSet\n",
    "df_train = df[~df.index.isin(df_test.index)]\n",
    "df_train.to_csv('trainingSet.csv', index=False)"
   ]
  },
  {
   "cell_type": "code",
   "execution_count": 3,
   "metadata": {},
   "outputs": [],
   "source": [
    "trainingSet = pd.read_csv('trainingSet.csv')\n",
    "testSet = pd.read_csv('testSet.csv')"
   ]
  },
  {
   "cell_type": "code",
   "execution_count": 4,
   "metadata": {},
   "outputs": [
    {
     "name": "stdout",
     "output_type": "stream",
     "text": [
      "[2 2 3 ... 5 2 1]\n",
      "(4850, 921)\n"
     ]
    }
   ],
   "source": [
    "Y_train_raw = np.array(trainingSet['Value'])\n",
    "trainSet_X = trainingSet.drop('Value', axis=1)\n",
    "X_train = np.array(trainSet_X)\n",
    "Y_train  = np.zeros((len(trainSet_X), nb_classes))\n",
    "print Y_train_raw\n",
    "for i in range(len(Y_train_raw)):\n",
    "    Y_train[i][Y_train_raw[i] - 1] = 1.0\n",
    "print X_train.shape"
   ]
  },
  {
   "cell_type": "code",
   "execution_count": 5,
   "metadata": {},
   "outputs": [],
   "source": [
    "Y_test = np.array(testSet['Value'])\n",
    "testSet_X = testSet.drop('Value', axis=1)\n",
    "X_test = np.array(testSet_X)\n",
    "Y_test = Y_test - [1]"
   ]
  },
  {
   "cell_type": "code",
   "execution_count": 6,
   "metadata": {},
   "outputs": [
    {
     "name": "stdout",
     "output_type": "stream",
     "text": [
      "WARNING:tensorflow:From /usr/local/lib/python2.7/dist-packages/tensorflow/python/framework/op_def_library.py:263: colocate_with (from tensorflow.python.framework.ops) is deprecated and will be removed in a future version.\n",
      "Instructions for updating:\n",
      "Colocations handled automatically by placer.\n",
      "WARNING:tensorflow:From /usr/local/lib/python2.7/dist-packages/keras/backend/tensorflow_backend.py:3445: calling dropout (from tensorflow.python.ops.nn_ops) with keep_prob is deprecated and will be removed in a future version.\n",
      "Instructions for updating:\n",
      "Please use `rate` instead of `keep_prob`. Rate should be set to `rate = 1 - keep_prob`.\n"
     ]
    }
   ],
   "source": [
    "# create model\n",
    "nb_classes = 12\n",
    "model = Sequential()\n",
    "model.add(Dense(1024, input_dim=921, activation='relu'))\n",
    "model.add(Dropout(0.5))\n",
    "model.add(Dense(512, activation='relu'))\n",
    "model.add(Dropout(0.1))\n",
    "model.add(Dense(256, activation='relu'))\n",
    "# model.add(Dropout(0.25))\n",
    "model.add(Dense(128, activation='relu'))\n",
    "# model.add(Dropout(0.25))\n",
    "model.add(Dense(64, activation='relu'))\n",
    "# model.add(Dropout(0.25))\n",
    "model.add(Dense(32, activation='relu'))\n",
    "# model.add(Dropout(0.25))\n",
    "model.add(Dense(nb_classes))\n",
    "model.add(Activation('softmax'))\n",
    "\n",
    "#model.add(Dense(2, activation='relu'))\n",
    "#model.add(Dense(1, activation='sigmoid'))\n",
    "# Compile model\n",
    "model.compile(loss='binary_crossentropy', optimizer='adam', metrics=['accuracy'])"
   ]
  },
  {
   "cell_type": "code",
   "execution_count": 7,
   "metadata": {},
   "outputs": [
    {
     "name": "stdout",
     "output_type": "stream",
     "text": [
      "WARNING:tensorflow:From /usr/local/lib/python2.7/dist-packages/tensorflow/python/ops/math_ops.py:3064: to_int32 (from tensorflow.python.ops.math_ops) is deprecated and will be removed in a future version.\n",
      "Instructions for updating:\n",
      "Use tf.cast instead.\n",
      "Epoch 1/10\n",
      "4850/4850 [==============================] - 7s 1ms/step - loss: 0.2292 - acc: 0.9160\n",
      "Epoch 2/10\n",
      "4850/4850 [==============================] - 4s 864us/step - loss: 0.2068 - acc: 0.9157\n",
      "Epoch 3/10\n",
      "4850/4850 [==============================] - 4s 904us/step - loss: 0.2016 - acc: 0.9177\n",
      "Epoch 4/10\n",
      "4850/4850 [==============================] - 4s 893us/step - loss: 0.2051 - acc: 0.9179\n",
      "Epoch 5/10\n",
      "4850/4850 [==============================] - 4s 858us/step - loss: 0.2010 - acc: 0.9193\n",
      "Epoch 6/10\n",
      "4850/4850 [==============================] - 4s 901us/step - loss: 0.1997 - acc: 0.9195\n",
      "Epoch 7/10\n",
      "4850/4850 [==============================] - 4s 907us/step - loss: 0.1969 - acc: 0.9195\n",
      "Epoch 8/10\n",
      "4850/4850 [==============================] - 5s 943us/step - loss: 0.1945 - acc: 0.9200\n",
      "Epoch 9/10\n",
      "4850/4850 [==============================] - 5s 940us/step - loss: 0.1921 - acc: 0.9211\n",
      "Epoch 10/10\n",
      "4850/4850 [==============================] - 5s 942us/step - loss: 0.1934 - acc: 0.9214\n"
     ]
    },
    {
     "data": {
      "text/plain": [
       "<keras.callbacks.History at 0x7f6b594c4410>"
      ]
     },
     "execution_count": 7,
     "metadata": {},
     "output_type": "execute_result"
    }
   ],
   "source": [
    "# print X_train\n",
    "# print Y_train\n",
    "# Fit the model\n",
    "model.fit(X_train, Y_train, epochs=10, batch_size=10, shuffle=True, class_weight='auto',)"
   ]
  },
  {
   "cell_type": "code",
   "execution_count": 8,
   "metadata": {},
   "outputs": [
    {
     "name": "stdout",
     "output_type": "stream",
     "text": [
      "[[4.0802178e-01 5.0484490e-01 7.7668406e-02 ... 3.0472850e-06\n",
      "  1.2473454e-08 9.0863299e-09]\n",
      " [5.1655805e-01 4.4439891e-01 3.7374757e-02 ... 3.1577758e-07\n",
      "  5.2386229e-10 3.8623940e-10]\n",
      " [4.8281559e-01 4.5982048e-01 5.3551659e-02 ... 1.4132298e-06\n",
      "  4.0247055e-09 3.1226051e-09]\n",
      " ...\n",
      " [3.4185416e-01 5.3282464e-01 1.0460607e-01 ... 5.7007078e-06\n",
      "  3.2374274e-08 2.2015145e-08]\n",
      " [4.8688957e-01 4.5751718e-01 5.2041162e-02 ... 1.2817227e-06\n",
      "  3.5039112e-09 2.7165201e-09]\n",
      " [2.8498763e-01 5.3467780e-01 1.3681675e-01 ... 1.0815006e-05\n",
      "  7.9519069e-08 5.5597710e-08]]\n"
     ]
    }
   ],
   "source": [
    "raw_predictions = model.predict(X_test, batch_size=10, verbose=0)\n",
    "print raw_predictions\n",
    "predicted = np.argmax(raw_predictions, axis=1)"
   ]
  },
  {
   "cell_type": "code",
   "execution_count": 9,
   "metadata": {},
   "outputs": [
    {
     "name": "stdout",
     "output_type": "stream",
     "text": [
      "[3 0 0 ... 2 0 5]\n",
      "0.329207920792\n"
     ]
    }
   ],
   "source": [
    "count = 0\n",
    "print Y_test\n",
    "for i in range(len(Y_test)):\n",
    "    if predicted[i] == Y_test[i]:\n",
    "        count += 1\n",
    "print 1.0 * count/len(Y_test)"
   ]
  },
  {
   "cell_type": "code",
   "execution_count": 10,
   "metadata": {},
   "outputs": [
    {
     "name": "stdout",
     "output_type": "stream",
     "text": [
      "1     387\n",
      "2     309\n",
      "3     150\n",
      "4     107\n",
      "6      96\n",
      "5      75\n",
      "7      35\n",
      "8      28\n",
      "9      12\n",
      "11      6\n",
      "10      6\n",
      "12      1\n",
      "Name: Value, dtype: int64\n"
     ]
    }
   ],
   "source": [
    "# print np.count_nonzero(Y_test)\n",
    "\n",
    "#testSet['Value'].value_counts()\n",
    "print testSet['Value'].value_counts()"
   ]
  },
  {
   "cell_type": "code",
   "execution_count": 11,
   "metadata": {},
   "outputs": [
    {
     "name": "stdout",
     "output_type": "stream",
     "text": [
      "[3 0 0 ... 2 0 5]\n"
     ]
    }
   ],
   "source": [
    "print Y_test"
   ]
  },
  {
   "cell_type": "code",
   "execution_count": null,
   "metadata": {},
   "outputs": [],
   "source": []
  }
 ],
 "metadata": {
  "kernelspec": {
   "display_name": "Python 2",
   "language": "python",
   "name": "python2"
  },
  "language_info": {
   "codemirror_mode": {
    "name": "ipython",
    "version": 2
   },
   "file_extension": ".py",
   "mimetype": "text/x-python",
   "name": "python",
   "nbconvert_exporter": "python",
   "pygments_lexer": "ipython2",
   "version": "2.7.12"
  }
 },
 "nbformat": 4,
 "nbformat_minor": 2
}

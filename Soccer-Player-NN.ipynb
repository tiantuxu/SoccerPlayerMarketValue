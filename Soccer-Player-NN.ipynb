{
 "cells": [
  {
   "cell_type": "code",
   "execution_count": 1,
   "metadata": {},
   "outputs": [
    {
     "name": "stderr",
     "output_type": "stream",
     "text": [
      "Using TensorFlow backend.\n"
     ]
    }
   ],
   "source": [
    "# https://machinelearningmastery.com/tutorial-first-neural-network-python-keras/\n",
    "import pandas as pd\n",
    "from keras.models import Sequential\n",
    "from keras.layers import Dense, Dropout, Activation, Flatten\n",
    "import numpy as np\n",
    "# fix random seed for reproducibility\n",
    "np.random.seed(0)\n",
    "nb_classes = 12"
   ]
  },
  {
   "cell_type": "code",
   "execution_count": 2,
   "metadata": {},
   "outputs": [],
   "source": [
    "# data_processed.csv\n",
    "# load pima indians dataset\n",
    "df = pd.read_csv('data_processed.csv')\n",
    "# Get testSet\n",
    "df_test = df.sample(frac=0.2, random_state=47)\n",
    "df_test.to_csv('testSet.csv', index=False)\n",
    "# Subtract to get trainingSet\n",
    "df_train = df[~df.index.isin(df_test.index)]\n",
    "df_train.to_csv('trainingSet.csv', index=False)"
   ]
  },
  {
   "cell_type": "code",
   "execution_count": 3,
   "metadata": {},
   "outputs": [],
   "source": [
    "trainingSet = pd.read_csv('trainingSet.csv')\n",
    "testSet = pd.read_csv('testSet.csv')"
   ]
  },
  {
   "cell_type": "code",
   "execution_count": 4,
   "metadata": {},
   "outputs": [
    {
     "name": "stdout",
     "output_type": "stream",
     "text": [
      "[2 2 3 ... 5 2 1]\n",
      "(4850, 921)\n"
     ]
    }
   ],
   "source": [
    "Y_train_raw = np.array(trainingSet['Value'])\n",
    "trainSet_X = trainingSet.drop('Value', axis=1)\n",
    "X_train = np.array(trainSet_X)\n",
    "Y_train  = np.zeros((len(trainSet_X), nb_classes))\n",
    "print Y_train_raw\n",
    "for i in range(len(Y_train_raw)):\n",
    "    Y_train[i][Y_train_raw[i] - 1] = 1.0\n",
    "print X_train.shape"
   ]
  },
  {
   "cell_type": "code",
   "execution_count": 5,
   "metadata": {},
   "outputs": [],
   "source": [
    "Y_test = np.array(testSet['Value'])\n",
    "testSet_X = testSet.drop('Value', axis=1)\n",
    "X_test = np.array(testSet_X)\n",
    "Y_test = Y_test - [1]"
   ]
  },
  {
   "cell_type": "code",
   "execution_count": 6,
   "metadata": {},
   "outputs": [
    {
     "name": "stdout",
     "output_type": "stream",
     "text": [
      "WARNING:tensorflow:From /usr/local/lib/python2.7/dist-packages/tensorflow/python/framework/op_def_library.py:263: colocate_with (from tensorflow.python.framework.ops) is deprecated and will be removed in a future version.\n",
      "Instructions for updating:\n",
      "Colocations handled automatically by placer.\n",
      "WARNING:tensorflow:From /usr/local/lib/python2.7/dist-packages/keras/backend/tensorflow_backend.py:3445: calling dropout (from tensorflow.python.ops.nn_ops) with keep_prob is deprecated and will be removed in a future version.\n",
      "Instructions for updating:\n",
      "Please use `rate` instead of `keep_prob`. Rate should be set to `rate = 1 - keep_prob`.\n"
     ]
    }
   ],
   "source": [
    "# create model\n",
    "nb_classes = 12\n",
    "model = Sequential()\n",
    "model.add(Dense(1024, input_dim=921, activation='relu'))\n",
    "model.add(Dropout(0.2))\n",
    "model.add(Dense(512, activation='relu'))\n",
    "model.add(Dropout(0.1))\n",
    "model.add(Dense(256, activation='relu'))\n",
    "model.add(Dropout(0.05))\n",
    "model.add(Dense(128, activation='relu'))\n",
    "# model.add(Dropout(0.25))\n",
    "model.add(Dense(64, activation='relu'))\n",
    "# model.add(Dropout(0.25))\n",
    "model.add(Dense(32, activation='relu'))\n",
    "# model.add(Dropout(0.25))\n",
    "model.add(Dense(nb_classes))\n",
    "model.add(Activation('softmax'))\n",
    "\n",
    "#model.add(Dense(2, activation='relu'))\n",
    "#model.add(Dense(1, activation='sigmoid'))\n",
    "# Compile model\n",
    "model.compile(loss='binary_crossentropy', optimizer='adam', metrics=['accuracy'])"
   ]
  },
  {
   "cell_type": "code",
   "execution_count": 7,
   "metadata": {},
   "outputs": [
    {
     "name": "stdout",
     "output_type": "stream",
     "text": [
      "WARNING:tensorflow:From /usr/local/lib/python2.7/dist-packages/tensorflow/python/ops/math_ops.py:3064: to_int32 (from tensorflow.python.ops.math_ops) is deprecated and will be removed in a future version.\n",
      "Instructions for updating:\n",
      "Use tf.cast instead.\n",
      "Epoch 1/10\n",
      "4850/4850 [==============================] - 7s 1ms/step - loss: 0.2212 - acc: 0.9160\n",
      "Epoch 2/10\n",
      "4850/4850 [==============================] - 4s 904us/step - loss: 0.1960 - acc: 0.9176\n",
      "Epoch 3/10\n",
      "4850/4850 [==============================] - 5s 930us/step - loss: 0.1875 - acc: 0.9196\n",
      "Epoch 4/10\n",
      "4850/4850 [==============================] - 4s 903us/step - loss: 0.1857 - acc: 0.9203\n",
      "Epoch 5/10\n",
      "4850/4850 [==============================] - 4s 865us/step - loss: 0.1801 - acc: 0.9216\n",
      "Epoch 6/10\n",
      "4850/4850 [==============================] - 4s 927us/step - loss: 0.1763 - acc: 0.9230\n",
      "Epoch 7/10\n",
      "4850/4850 [==============================] - 5s 955us/step - loss: 0.1760 - acc: 0.9239\n",
      "Epoch 8/10\n",
      "4850/4850 [==============================] - 5s 953us/step - loss: 0.1723 - acc: 0.9243\n",
      "Epoch 9/10\n",
      "4850/4850 [==============================] - 4s 927us/step - loss: 0.1726 - acc: 0.9248\n",
      "Epoch 10/10\n",
      "4850/4850 [==============================] - 4s 877us/step - loss: 0.1671 - acc: 0.9257\n"
     ]
    },
    {
     "data": {
      "text/plain": [
       "<keras.callbacks.History at 0x7f8eca28ba90>"
      ]
     },
     "execution_count": 7,
     "metadata": {},
     "output_type": "execute_result"
    }
   ],
   "source": [
    "# print X_train\n",
    "# print Y_train\n",
    "# Fit the model\n",
    "model.fit(X_train, Y_train, epochs=10, batch_size=10, shuffle=True, class_weight='auto',)"
   ]
  },
  {
   "cell_type": "code",
   "execution_count": 8,
   "metadata": {},
   "outputs": [
    {
     "name": "stdout",
     "output_type": "stream",
     "text": [
      "[[4.07639854e-02 1.24706574e-01 3.01734537e-01 ... 6.86554858e-06\n",
      "  4.86468309e-07 1.55040038e-06]\n",
      " [5.32559335e-01 4.36409026e-01 3.06994412e-02 ... 3.46217114e-13\n",
      "  5.23755606e-14 8.66412383e-14]\n",
      " [5.09624660e-01 3.51843506e-01 1.14310868e-01 ... 4.94248252e-06\n",
      "  2.67291171e-06 2.89314266e-06]\n",
      " ...\n",
      " [4.81708311e-02 1.35596961e-01 2.96843499e-01 ... 1.44529749e-05\n",
      "  1.28101385e-06 3.70906378e-06]\n",
      " [5.35143912e-01 3.36417377e-01 1.06975250e-01 ... 4.12774307e-06\n",
      "  2.32212142e-06 2.46509353e-06]\n",
      " [1.17443465e-02 3.24139781e-02 8.96830037e-02 ... 3.15717026e-03\n",
      "  3.65061947e-04 5.27158147e-04]]\n"
     ]
    }
   ],
   "source": [
    "raw_predictions = model.predict(X_test, batch_size=10, verbose=0)\n",
    "print raw_predictions\n",
    "predicted = np.argmax(raw_predictions, axis=1)"
   ]
  },
  {
   "cell_type": "code",
   "execution_count": 9,
   "metadata": {},
   "outputs": [
    {
     "name": "stdout",
     "output_type": "stream",
     "text": [
      "[3 0 0 ... 2 0 5]\n",
      "0.463696369637\n"
     ]
    }
   ],
   "source": [
    "count = 0\n",
    "print Y_test\n",
    "for i in range(len(Y_test)):\n",
    "    if predicted[i] == Y_test[i]:\n",
    "        count += 1\n",
    "print 1.0 * count/len(Y_test)"
   ]
  },
  {
   "cell_type": "code",
   "execution_count": 10,
   "metadata": {},
   "outputs": [
    {
     "name": "stdout",
     "output_type": "stream",
     "text": [
      "1     387\n",
      "2     309\n",
      "3     150\n",
      "4     107\n",
      "6      96\n",
      "5      75\n",
      "7      35\n",
      "8      28\n",
      "9      12\n",
      "11      6\n",
      "10      6\n",
      "12      1\n",
      "Name: Value, dtype: int64\n"
     ]
    }
   ],
   "source": [
    "# print np.count_nonzero(Y_test)\n",
    "\n",
    "#testSet['Value'].value_counts()\n",
    "print testSet['Value'].value_counts()"
   ]
  },
  {
   "cell_type": "code",
   "execution_count": 11,
   "metadata": {},
   "outputs": [
    {
     "name": "stdout",
     "output_type": "stream",
     "text": [
      "[3 0 0 ... 2 0 5]\n"
     ]
    }
   ],
   "source": [
    "print Y_test"
   ]
  },
  {
   "cell_type": "code",
   "execution_count": null,
   "metadata": {},
   "outputs": [],
   "source": []
  }
 ],
 "metadata": {
  "kernelspec": {
   "display_name": "Python 2",
   "language": "python",
   "name": "python2"
  },
  "language_info": {
   "codemirror_mode": {
    "name": "ipython",
    "version": 2
   },
   "file_extension": ".py",
   "mimetype": "text/x-python",
   "name": "python",
   "nbconvert_exporter": "python",
   "pygments_lexer": "ipython2",
   "version": "2.7.12"
  }
 },
 "nbformat": 4,
 "nbformat_minor": 2
}

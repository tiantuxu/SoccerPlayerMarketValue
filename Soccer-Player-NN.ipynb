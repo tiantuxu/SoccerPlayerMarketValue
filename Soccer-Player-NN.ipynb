{
 "cells": [
  {
   "cell_type": "code",
   "execution_count": 1,
   "metadata": {},
   "outputs": [
    {
     "name": "stderr",
     "output_type": "stream",
     "text": [
      "Using TensorFlow backend.\n"
     ]
    }
   ],
   "source": [
    "# https://machinelearningmastery.com/tutorial-first-neural-network-python-keras/\n",
    "import pandas as pd\n",
    "from keras.models import Sequential\n",
    "from keras.layers import Dense, Dropout, Activation, Flatten\n",
    "import numpy as np\n",
    "# fix random seed for reproducibility\n",
    "np.random.seed(0)\n",
    "nb_classes = 4"
   ]
  },
  {
   "cell_type": "code",
   "execution_count": 2,
   "metadata": {},
   "outputs": [],
   "source": [
    "# data_processed.csv\n",
    "# load pima indians dataset\n",
    "df = pd.read_csv('data_processed.csv')\n",
    "# Get testSet\n",
    "df_test = df.sample(frac=0.2, random_state=47)\n",
    "df_test.to_csv('testSet.csv', index=False)\n",
    "# Subtract to get trainingSet\n",
    "df_train = df[~df.index.isin(df_test.index)]\n",
    "df_train.to_csv('trainingSet.csv', index=False)"
   ]
  },
  {
   "cell_type": "code",
   "execution_count": 3,
   "metadata": {},
   "outputs": [],
   "source": [
    "trainingSet = pd.read_csv('trainingSet.csv')\n",
    "testSet = pd.read_csv('testSet.csv')"
   ]
  },
  {
   "cell_type": "code",
   "execution_count": 4,
   "metadata": {},
   "outputs": [
    {
     "name": "stdout",
     "output_type": "stream",
     "text": [
      "[1 1 1 ... 4 4 4]\n",
      "(1141, 921)\n"
     ]
    }
   ],
   "source": [
    "Y_train_raw = np.array(trainingSet['Value'])\n",
    "trainSet_X = trainingSet.drop('Value', axis=1)\n",
    "X_train = np.array(trainSet_X)\n",
    "Y_train  = np.zeros((len(trainSet_X), nb_classes))\n",
    "print Y_train_raw\n",
    "for i in range(len(Y_train_raw)):\n",
    "    Y_train[i][Y_train_raw[i] - 1] = 1.0\n",
    "print X_train.shape"
   ]
  },
  {
   "cell_type": "code",
   "execution_count": 5,
   "metadata": {},
   "outputs": [],
   "source": [
    "Y_test = np.array(testSet['Value'])\n",
    "testSet_X = testSet.drop('Value', axis=1)\n",
    "X_test = np.array(testSet_X)\n",
    "Y_test = Y_test - [1]"
   ]
  },
  {
   "cell_type": "code",
   "execution_count": 6,
   "metadata": {},
   "outputs": [
    {
     "name": "stdout",
     "output_type": "stream",
     "text": [
      "WARNING:tensorflow:From /usr/local/lib/python2.7/dist-packages/tensorflow/python/framework/op_def_library.py:263: colocate_with (from tensorflow.python.framework.ops) is deprecated and will be removed in a future version.\n",
      "Instructions for updating:\n",
      "Colocations handled automatically by placer.\n",
      "WARNING:tensorflow:From /usr/local/lib/python2.7/dist-packages/keras/backend/tensorflow_backend.py:3445: calling dropout (from tensorflow.python.ops.nn_ops) with keep_prob is deprecated and will be removed in a future version.\n",
      "Instructions for updating:\n",
      "Please use `rate` instead of `keep_prob`. Rate should be set to `rate = 1 - keep_prob`.\n"
     ]
    }
   ],
   "source": [
    "# create model\n",
    "model = Sequential()\n",
    "model.add(Dense(1024, input_dim=921, activation='relu'))\n",
    "model.add(Dropout(0.2))\n",
    "model.add(Dense(512, activation='relu'))\n",
    "model.add(Dropout(0.1))\n",
    "model.add(Dense(256, activation='relu'))\n",
    "model.add(Dropout(0.05))\n",
    "model.add(Dense(128, activation='relu'))\n",
    "# model.add(Dropout(0.25))\n",
    "model.add(Dense(64, activation='relu'))\n",
    "# model.add(Dropout(0.25))\n",
    "model.add(Dense(32, activation='relu'))\n",
    "# model.add(Dropout(0.25))\n",
    "model.add(Dense(nb_classes))\n",
    "model.add(Activation('softmax'))\n",
    "\n",
    "#model.add(Dense(2, activation='relu'))\n",
    "#model.add(Dense(1, activation='sigmoid'))\n",
    "# Compile model\n",
    "model.compile(loss='binary_crossentropy', optimizer='adam', metrics=['accuracy'])"
   ]
  },
  {
   "cell_type": "code",
   "execution_count": 7,
   "metadata": {},
   "outputs": [
    {
     "name": "stdout",
     "output_type": "stream",
     "text": [
      "WARNING:tensorflow:From /usr/local/lib/python2.7/dist-packages/tensorflow/python/ops/math_ops.py:3064: to_int32 (from tensorflow.python.ops.math_ops) is deprecated and will be removed in a future version.\n",
      "Instructions for updating:\n",
      "Use tf.cast instead.\n",
      "Epoch 1/10\n",
      "1141/1141 [==============================] - 3s 3ms/step - loss: 0.3607 - acc: 0.8510\n",
      "Epoch 2/10\n",
      "1141/1141 [==============================] - 1s 818us/step - loss: 0.2485 - acc: 0.8883\n",
      "Epoch 3/10\n",
      "1141/1141 [==============================] - 1s 836us/step - loss: 0.2051 - acc: 0.9069\n",
      "Epoch 4/10\n",
      "1141/1141 [==============================] - 1s 824us/step - loss: 0.2064 - acc: 0.9043\n",
      "Epoch 5/10\n",
      "1141/1141 [==============================] - 1s 854us/step - loss: 0.1949 - acc: 0.9102\n",
      "Epoch 6/10\n",
      "1141/1141 [==============================] - 1s 863us/step - loss: 0.1755 - acc: 0.9213\n",
      "Epoch 7/10\n",
      "1141/1141 [==============================] - 1s 829us/step - loss: 0.1550 - acc: 0.9347\n",
      "Epoch 8/10\n",
      "1141/1141 [==============================] - 1s 830us/step - loss: 0.1628 - acc: 0.9240\n",
      "Epoch 9/10\n",
      "1141/1141 [==============================] - 1s 859us/step - loss: 0.1508 - acc: 0.9347\n",
      "Epoch 10/10\n",
      "1141/1141 [==============================] - 1s 863us/step - loss: 0.1514 - acc: 0.9321\n"
     ]
    },
    {
     "data": {
      "text/plain": [
       "<keras.callbacks.History at 0x7fad7b9c0a10>"
      ]
     },
     "execution_count": 7,
     "metadata": {},
     "output_type": "execute_result"
    }
   ],
   "source": [
    "# print X_train\n",
    "# print Y_train\n",
    "# Fit the model\n",
    "model.fit(X_train, Y_train, epochs=10, batch_size=10, shuffle=True, class_weight='auto',)"
   ]
  },
  {
   "cell_type": "code",
   "execution_count": 8,
   "metadata": {},
   "outputs": [
    {
     "name": "stdout",
     "output_type": "stream",
     "text": [
      "[[1.00000000e+00 2.32987674e-08 9.30320708e-13 3.38121449e-15]\n",
      " [9.24138963e-01 7.37643465e-02 1.91605417e-03 1.80612959e-04]\n",
      " [9.99999046e-01 9.48345928e-07 2.74663792e-10 2.91689307e-12]\n",
      " ...\n",
      " [9.99989748e-01 1.03019738e-05 1.04298676e-08 2.16292470e-10]\n",
      " [8.79972875e-01 1.15617596e-01 3.97034455e-03 4.39187774e-04]\n",
      " [9.99967098e-01 3.29406794e-05 5.32159561e-08 1.33487810e-09]]\n"
     ]
    }
   ],
   "source": [
    "raw_predictions = model.predict(X_test, batch_size=10, verbose=0)\n",
    "print raw_predictions\n",
    "predicted = np.argmax(raw_predictions, axis=1)"
   ]
  },
  {
   "cell_type": "code",
   "execution_count": 9,
   "metadata": {},
   "outputs": [
    {
     "name": "stdout",
     "output_type": "stream",
     "text": [
      "[0 1 0 0 0 0 1 1 0 1 0 0 0 0 3 1 0 0 0 0 0 1 0 1 1 1 0 0 0 0 0 0 0 0 1 0 2\n",
      " 0 0 0 0 0 0 0 0 0 0 2 2 0 0 0 0 0 0 0 0 0 1 0 0 0 0 1 0 0 0 0 1 0 0 0 1 0\n",
      " 0 0 0 0 0 0 1 1 1 2 1 0 0 1 2 0 0 0 0 0 0 0 0 1 0 3 0 0 0 1 1 0 2 0 0 0 0\n",
      " 0 1 0 2 0 0 0 2 0 0 0 0 1 2 0 1 0 1 1 2 0 0 0 0 0 0 1 0 2 0 0 3 1 0 0 1 0\n",
      " 0 0 0 1 0 0 0 1 1 0 0 1 1 0 0 0 0 0 0 0 0 0 2 0 0 1 1 2 1 0 0 0 0 0 0 0 0\n",
      " 0 0 2 0 0 0 0 0 3 0 0 1 0 0 0 0 0 0 1 2 0 0 0 3 2 0 0 0 0 0 1 2 0 0 1 0 0\n",
      " 0 0 0 1 0 0 0 0 0 0 0 0 1 1 3 0 0 0 0 0 0 0 2 1 0 0 0 0 0 0 3 0 0 1 0 0 1\n",
      " 0 0 1 1 0 0 0 0 0 0 1 2 0 3 0 0 1 0 1 0 1 0 1 0 2 0]\n",
      "0.726315789474\n"
     ]
    }
   ],
   "source": [
    "count = 0\n",
    "print Y_test\n",
    "for i in range(len(Y_test)):\n",
    "    if predicted[i] == Y_test[i]:\n",
    "        count += 1\n",
    "print 1.0 * count/len(Y_test)"
   ]
  },
  {
   "cell_type": "code",
   "execution_count": 10,
   "metadata": {},
   "outputs": [
    {
     "name": "stdout",
     "output_type": "stream",
     "text": [
      "1    202\n",
      "2     55\n",
      "3     20\n",
      "4      8\n",
      "Name: Value, dtype: int64\n"
     ]
    }
   ],
   "source": [
    "# print np.count_nonzero(Y_test)\n",
    "\n",
    "#testSet['Value'].value_counts()\n",
    "print testSet['Value'].value_counts()"
   ]
  },
  {
   "cell_type": "code",
   "execution_count": 11,
   "metadata": {},
   "outputs": [
    {
     "name": "stdout",
     "output_type": "stream",
     "text": [
      "[0 1 0 0 0 0 1 1 0 1 0 0 0 0 3 1 0 0 0 0 0 1 0 1 1 1 0 0 0 0 0 0 0 0 1 0 2\n",
      " 0 0 0 0 0 0 0 0 0 0 2 2 0 0 0 0 0 0 0 0 0 1 0 0 0 0 1 0 0 0 0 1 0 0 0 1 0\n",
      " 0 0 0 0 0 0 1 1 1 2 1 0 0 1 2 0 0 0 0 0 0 0 0 1 0 3 0 0 0 1 1 0 2 0 0 0 0\n",
      " 0 1 0 2 0 0 0 2 0 0 0 0 1 2 0 1 0 1 1 2 0 0 0 0 0 0 1 0 2 0 0 3 1 0 0 1 0\n",
      " 0 0 0 1 0 0 0 1 1 0 0 1 1 0 0 0 0 0 0 0 0 0 2 0 0 1 1 2 1 0 0 0 0 0 0 0 0\n",
      " 0 0 2 0 0 0 0 0 3 0 0 1 0 0 0 0 0 0 1 2 0 0 0 3 2 0 0 0 0 0 1 2 0 0 1 0 0\n",
      " 0 0 0 1 0 0 0 0 0 0 0 0 1 1 3 0 0 0 0 0 0 0 2 1 0 0 0 0 0 0 3 0 0 1 0 0 1\n",
      " 0 0 1 1 0 0 0 0 0 0 1 2 0 3 0 0 1 0 1 0 1 0 1 0 2 0]\n"
     ]
    }
   ],
   "source": [
    "print Y_test"
   ]
  },
  {
   "cell_type": "code",
   "execution_count": null,
   "metadata": {},
   "outputs": [],
   "source": []
  }
 ],
 "metadata": {
  "kernelspec": {
   "display_name": "Python 2",
   "language": "python",
   "name": "python2"
  },
  "language_info": {
   "codemirror_mode": {
    "name": "ipython",
    "version": 2
   },
   "file_extension": ".py",
   "mimetype": "text/x-python",
   "name": "python",
   "nbconvert_exporter": "python",
   "pygments_lexer": "ipython2",
   "version": "2.7.12"
  }
 },
 "nbformat": 4,
 "nbformat_minor": 2
}
